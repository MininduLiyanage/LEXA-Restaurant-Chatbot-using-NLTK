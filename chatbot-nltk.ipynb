{
 "cells": [
  {
   "cell_type": "code",
   "execution_count": null,
   "id": "faf47b5f-db37-4273-b0e5-467aecf6a7e7",
   "metadata": {},
   "outputs": [],
   "source": [
    "import nltk\n",
    "import numpy as np"
   ]
  },
  {
   "cell_type": "code",
   "execution_count": 4,
   "id": "84c486e0-d102-40e0-af0b-46a1d191cd19",
   "metadata": {},
   "outputs": [],
   "source": [
    "#!pip install nltk"
   ]
  },
  {
   "cell_type": "code",
   "execution_count": 5,
   "id": "17553dd0-1460-4bda-b9a7-65e839a55c96",
   "metadata": {},
   "outputs": [
    {
     "name": "stderr",
     "output_type": "stream",
     "text": [
      "[nltk_data] Downloading package punkt to\n",
      "[nltk_data]     C:\\Users\\user\\AppData\\Roaming\\nltk_data...\n",
      "[nltk_data]   Unzipping tokenizers\\punkt.zip.\n"
     ]
    },
    {
     "data": {
      "text/plain": [
       "True"
      ]
     },
     "execution_count": 5,
     "metadata": {},
     "output_type": "execute_result"
    }
   ],
   "source": [
    "nltk.download('punkt')"
   ]
  },
  {
   "cell_type": "markdown",
   "id": "b6f951b4-aff3-4368-8ede-a11ae74a1261",
   "metadata": {},
   "source": [
    "## Functions"
   ]
  },
  {
   "cell_type": "code",
   "execution_count": null,
   "id": "edacd15e-0a67-4340-bdbe-e7b331ad027f",
   "metadata": {},
   "outputs": [],
   "source": [
    "from nltk.stem.porter import PorterStemmer\n",
    "stemmer = PorterStemmer()"
   ]
  },
  {
   "cell_type": "code",
   "execution_count": null,
   "id": "f85dedb9-9a0e-4aa4-9056-50f03399677a",
   "metadata": {},
   "outputs": [],
   "source": [
    "def tokenize(sentence):\n",
    "    return nltk.word_tokenize(sentence)\n",
    "\n",
    "def stem(word):\n",
    "    return stemmer.stem(word.lower())\n",
    "\n",
    "def bag_of_words(tokenized_sentence, words):\n",
    "    \"\"\"\n",
    "    sentence = [\"hello\", \"how\", \"are\", \"you\"]\n",
    "    words = [\"hi\", \"hello\", \"I\", \"you\", \"bye\", \"thank\", \"cool\"]\n",
    "    bog   = [  0 ,    1 ,    0 ,   1 ,    0 ,    0 ,      0]\n",
    "    \"\"\"\n",
    "    sentence_words = [stem(word) for word in tokenized_sentence]      # stem each word\n",
    "    bag = np.zeros(len(words), dtype=np.float32)                     # initialize bag with 0 for each word\n",
    "    for idx, w in enumerate(words):\n",
    "        if w in sentence_words: \n",
    "            bag[idx] = 1\n",
    "            \n",
    "    return bag"
   ]
  },
  {
   "cell_type": "markdown",
   "id": "b4ce7ff3-742a-4e18-8158-9dc74e4be31f",
   "metadata": {},
   "source": [
    "## Data Processing"
   ]
  },
  {
   "cell_type": "code",
   "execution_count": null,
   "id": "fc2233ec-4e7c-49eb-a74d-410b02c166c7",
   "metadata": {},
   "outputs": [],
   "source": [
    "import random\n",
    "import json\n",
    "\n",
    "import torch\n",
    "import torch.nn as nn\n",
    "from torch.utils.data import Dataset, DataLoader"
   ]
  },
  {
   "cell_type": "code",
   "execution_count": 13,
   "id": "15f8ac90-f9d4-44df-a9ab-79fc0b68d614",
   "metadata": {},
   "outputs": [],
   "source": [
    "with open('intents.json', 'r') as f:\n",
    "    intents = json.load(f)"
   ]
  },
  {
   "cell_type": "code",
   "execution_count": 14,
   "id": "4db4ce92-b808-4564-963e-eb678d3c98e9",
   "metadata": {},
   "outputs": [],
   "source": [
    "all_words = []\n",
    "tags = []\n",
    "xy = []\n",
    "\n",
    "for intent in intents['intents']:\n",
    "    tag = intent['tag']\n",
    "    tags.append(tag)\n",
    "    for pattern in intent['patterns']:\n",
    "        w = tokenize(pattern)\n",
    "        all_words.extend(w)\n",
    "        xy.append((w, tag))"
   ]
  },
  {
   "cell_type": "code",
   "execution_count": 17,
   "id": "ad1be893-a940-444c-8bbe-d6d2fc535404",
   "metadata": {},
   "outputs": [
    {
     "name": "stdout",
     "output_type": "stream",
     "text": [
      "[\"'s\", '10', 'a', 'about', 'accept', 'address', 'afternoon', 'an', 'are', 'at', 'book', 'bye', 'call', 'can', 'card', 'cash', 'close', 'come', 'contact', 'credit', 'day', 'deliv', 'deliveri', 'describ', 'detail', 'dinner', 'direct', 'dish', 'do', 'doe', 'even', 'food', 'for', 'friday', 'get', 'give', 'good', 'goodby', 'have', 'hello', 'help', 'hey', 'hi', 'hour', 'how', 'i', 'in', 'is', 'kind', 'later', 'like', 'locat', 'long', 'lot', 'make', 'mastercard', 'me', 'menu', 'morn', 'my', 'number', 'of', 'offer', 'on', 'onli', 'open', 'option', 'order', 'pay', 'paypal', 'phone', 'pick', 'place', 'pm', 'reach', 'reserv', 'restaur', 'schedul', 'see', 'serv', 'servic', 'show', 'some', 'tabl', 'take', 'takeout', 'tell', 'thank', 'that', 'the', 'time', 'to', 'two', 'up', 'vegan', 'want', 'websit', 'weekend', 'what', 'whatâ€™', 'when', 'where', 'with', 'you', 'your']\n"
     ]
    }
   ],
   "source": [
    "print(all_words)"
   ]
  },
  {
   "cell_type": "code",
   "execution_count": 18,
   "id": "8c190bff-6e1e-423b-bb33-efb0a710eada",
   "metadata": {},
   "outputs": [],
   "source": [
    "ignore_words = ['?', '.', '!']\n",
    "all_words = [stem(w) for w in all_words if w not in ignore_words]       # stem and lower\n",
    "\n",
    "all_words = sorted(set(all_words))    # remove duplicates and sort"
   ]
  },
  {
   "cell_type": "markdown",
   "id": "36c9b44d-1fa8-4a2b-b08e-796ff4d1bd05",
   "metadata": {},
   "source": [
    "## Dataset"
   ]
  },
  {
   "cell_type": "code",
   "execution_count": 40,
   "id": "5a05a267-c36c-4fb4-8fbd-dfa42552c748",
   "metadata": {},
   "outputs": [],
   "source": [
    "# Hyper-parameters \n",
    "num_epochs = 1000\n",
    "batch_size = 8\n",
    "learning_rate = 0.001\n",
    "input_size = len(all_words)\n",
    "hidden_size = 10\n",
    "output_size = len(tags)"
   ]
  },
  {
   "cell_type": "code",
   "execution_count": 21,
   "id": "0ed2b30e-6736-4f94-8353-019966837e8e",
   "metadata": {},
   "outputs": [],
   "source": [
    "# create training data\n",
    "X_train = []\n",
    "y_train = []\n",
    "for (pattern_sentence, tag) in xy:\n",
    "    \n",
    "    bag = bag_of_words(pattern_sentence, all_words)\n",
    "    X_train.append(bag)\n",
    "\n",
    "    label = tags.index(tag)\n",
    "    y_train.append(label)"
   ]
  },
  {
   "cell_type": "code",
   "execution_count": 22,
   "id": "84e30199-f8ce-44ea-ab6c-dfc0985b196d",
   "metadata": {},
   "outputs": [],
   "source": [
    "X_train = np.array(X_train)\n",
    "y_train = np.array(y_train)"
   ]
  },
  {
   "cell_type": "code",
   "execution_count": 24,
   "id": "3540c630-bbf9-49ea-b9e4-ac828716c819",
   "metadata": {},
   "outputs": [],
   "source": [
    "class ChatDataset(Dataset):\n",
    "\n",
    "    def __init__(self):\n",
    "        self.n_samples = len(X_train)\n",
    "        self.x_data = X_train\n",
    "        self.y_data = y_train\n",
    "\n",
    "    def __getitem__(self, index):\n",
    "        return self.x_data[index], self.y_data[index]\n",
    "\n",
    "    def __len__(self):\n",
    "        return self.n_samples"
   ]
  },
  {
   "cell_type": "code",
   "execution_count": 25,
   "id": "d9a550f2-9895-420d-91c8-be8225d16c65",
   "metadata": {},
   "outputs": [],
   "source": [
    "dataset = ChatDataset()"
   ]
  },
  {
   "cell_type": "code",
   "execution_count": 28,
   "id": "c83728dd-c4c6-4b2f-a381-86d5de27aeab",
   "metadata": {},
   "outputs": [
    {
     "data": {
      "text/plain": [
       "(array([0., 0., 0., 0., 0., 0., 1., 0., 0., 0., 0., 0., 0., 0., 0., 0., 0.,\n",
       "        0., 0., 0., 0., 0., 0., 0., 0., 0., 0., 0., 0., 0., 0., 0., 0., 0.,\n",
       "        0., 0., 1., 0., 0., 0., 0., 0., 0., 0., 0., 0., 0., 0., 0., 0., 0.,\n",
       "        0., 0., 0., 0., 0., 0., 0., 0., 0., 0., 0., 0., 0., 0., 0., 0., 0.,\n",
       "        0., 0., 0., 0., 0., 0., 0., 0., 0., 0., 0., 0., 0., 0., 0., 0., 0.,\n",
       "        0., 0., 0., 0., 0., 0., 0., 0., 0., 0., 0., 0., 0., 0., 0., 0., 0.,\n",
       "        0., 0., 0.], dtype=float32),\n",
       " 0)"
      ]
     },
     "execution_count": 28,
     "metadata": {},
     "output_type": "execute_result"
    }
   ],
   "source": [
    "dataset.__getitem__(4)"
   ]
  },
  {
   "cell_type": "code",
   "execution_count": 30,
   "id": "40204a5f-cbca-4a08-a0d7-29ac90a87f32",
   "metadata": {},
   "outputs": [],
   "source": [
    "train_loader = DataLoader(dataset=dataset, batch_size=batch_size, shuffle=True, num_workers=0)"
   ]
  },
  {
   "cell_type": "markdown",
   "id": "63e9c5f6-b6a7-4c27-b13f-a58a7f095894",
   "metadata": {},
   "source": [
    "## Model"
   ]
  },
  {
   "cell_type": "code",
   "execution_count": 33,
   "id": "290fb3a0-e226-48d1-a821-c3bd5a836726",
   "metadata": {},
   "outputs": [
    {
     "name": "stdout",
     "output_type": "stream",
     "text": [
      "cuda\n"
     ]
    }
   ],
   "source": [
    "device = torch.device('cuda' if torch.cuda.is_available() else 'cpu')\n",
    "print(device)"
   ]
  },
  {
   "cell_type": "code",
   "execution_count": null,
   "id": "9e8c5c3f-7454-4816-bd49-4c1635f62b88",
   "metadata": {},
   "outputs": [],
   "source": [
    "class model_cb(nn.Module):\n",
    "    def __init__(self, input_size, hidden_size, num_classes):\n",
    "        super(model_cb, self).__init__()\n",
    "        self.l1 = nn.Linear(input_size, hidden_size) \n",
    "        self.l2 = nn.Linear(hidden_size, hidden_size) \n",
    "        self.l3 = nn.Linear(hidden_size, num_classes)\n",
    "        self.relu = nn.ReLU()\n",
    "    \n",
    "    def forward(self, x):\n",
    "        x = self.l1(x)\n",
    "        x = self.relu(x)\n",
    "        x = self.l2(x)\n",
    "        x = self.relu(x)\n",
    "        x = self.l3(x)\n",
    "        # no activation and no softmax at the end\n",
    "        return x"
   ]
  },
  {
   "cell_type": "code",
   "execution_count": 55,
   "id": "19584416-cfa3-4832-bbb8-c6bbb836c2b1",
   "metadata": {},
   "outputs": [],
   "source": [
    "model = model_cb(input_size, hidden_size, output_size).to(device)\n",
    "\n",
    "criterion = nn.CrossEntropyLoss()     # Loss\n",
    "optimizer = torch.optim.Adam(model.parameters(), lr=learning_rate)     #optimizer"
   ]
  },
  {
   "cell_type": "markdown",
   "id": "16e15dcf-2f9b-410d-bcb6-9d268d0629e9",
   "metadata": {},
   "source": [
    "## training loop"
   ]
  },
  {
   "cell_type": "code",
   "execution_count": 56,
   "id": "d26927f5-f863-421d-b03a-15735b19d7fd",
   "metadata": {},
   "outputs": [
    {
     "name": "stdout",
     "output_type": "stream",
     "text": [
      "Epoch [100/1000], Loss: 0.5582\n",
      "Epoch [200/1000], Loss: 0.0415\n",
      "Epoch [300/1000], Loss: 0.0292\n",
      "Epoch [400/1000], Loss: 0.0021\n",
      "Epoch [500/1000], Loss: 0.0012\n",
      "Epoch [600/1000], Loss: 0.0011\n",
      "Epoch [700/1000], Loss: 0.0002\n",
      "Epoch [800/1000], Loss: 0.0001\n",
      "Epoch [900/1000], Loss: 0.0002\n",
      "Epoch [1000/1000], Loss: 0.0001\n",
      "final loss: 0.0001\n"
     ]
    }
   ],
   "source": [
    "#traininf loop\n",
    "for epoch in range(num_epochs):\n",
    "    for (words, labels) in train_loader:\n",
    "        words = words.to(device)\n",
    "        labels = labels.to(dtype=torch.long).to(device)\n",
    "        \n",
    "        # Forward pass\n",
    "        outputs = model(words)\n",
    "        loss = criterion(outputs, labels)\n",
    "        \n",
    "        # Backward and optimize\n",
    "        optimizer.zero_grad()\n",
    "        loss.backward()\n",
    "        optimizer.step()\n",
    "        \n",
    "    if (epoch+1) % 100 == 0:\n",
    "        print (f'Epoch [{epoch+1}/{num_epochs}], Loss: {loss.item():.4f}')\n",
    "\n",
    "print(f'final loss: {loss.item():.4f}')"
   ]
  },
  {
   "cell_type": "markdown",
   "id": "2b118b0c-116a-4056-84fc-546f28087516",
   "metadata": {},
   "source": [
    "## Model Save"
   ]
  },
  {
   "cell_type": "code",
   "execution_count": 57,
   "id": "5316de00-9753-4ef5-ae25-721d29ddd95f",
   "metadata": {},
   "outputs": [],
   "source": [
    "data = {\n",
    "\"model_state\": model.state_dict(),\n",
    "\"input_size\": input_size,\n",
    "\"hidden_size\": hidden_size,\n",
    "\"output_size\": output_size,\n",
    "\"all_words\": all_words,\n",
    "\"tags\": tags\n",
    "}\n",
    "\n",
    "torch.save(data, \"model_data.pth\")"
   ]
  },
  {
   "cell_type": "markdown",
   "id": "9beee597-0889-4c09-bdd6-29da0399b971",
   "metadata": {},
   "source": [
    "## Chat Bot"
   ]
  },
  {
   "cell_type": "code",
   "execution_count": null,
   "id": "b5d8536d-647d-4a09-b7d0-446f53f8a167",
   "metadata": {},
   "outputs": [],
   "source": [
    "device = torch.device('cuda' if torch.cuda.is_available() else 'cpu')"
   ]
  },
  {
   "cell_type": "code",
   "execution_count": null,
   "id": "bc9bc6e8-3a96-434e-95cd-367cc46f3237",
   "metadata": {},
   "outputs": [],
   "source": [
    "with open('intents.json', 'r') as json_data:\n",
    "    intents = json.load(json_data)"
   ]
  },
  {
   "cell_type": "code",
   "execution_count": null,
   "id": "6ba22fda-2695-4400-a191-c9ab52d75331",
   "metadata": {},
   "outputs": [],
   "source": [
    "data = torch.load(\"model_data.pth\")\n",
    "\n",
    "input_size = data[\"input_size\"]\n",
    "hidden_size = data[\"hidden_size\"]\n",
    "output_size = data[\"output_size\"]\n",
    "all_words = data['all_words']\n",
    "tags = data['tags']\n",
    "model_state = data[\"model_state\"]"
   ]
  },
  {
   "cell_type": "code",
   "execution_count": null,
   "id": "bdbab74d-f284-4a10-beff-ae40ac1ae978",
   "metadata": {},
   "outputs": [],
   "source": [
    "model = model_cb(input_size, hidden_size, output_size).to(device)\n",
    "model.load_state_dict(model_state)\n",
    "model.eval()"
   ]
  },
  {
   "cell_type": "code",
   "execution_count": null,
   "id": "43d0d80f-88f9-41fd-8178-6f364e14f820",
   "metadata": {},
   "outputs": [],
   "source": [
    "bot_name = \"Lexa\"\n",
    "\n",
    "print(\"Let's chat! (type 'quit' to exit)\")\n",
    "\n",
    "while True:\n",
    "    sentence = input(\"You: \")\n",
    "    if sentence == \"quit\":\n",
    "        break\n",
    "\n",
    "    sentence = tokenize(sentence)\n",
    "    X = bag_of_words(sentence, all_words)\n",
    "    X = X.reshape(1, X.shape[0])\n",
    "    X = torch.from_numpy(X).to(device)\n",
    "\n",
    "    output = model(X)\n",
    "    _, predicted = torch.max(output, dim=1)\n",
    "\n",
    "    tag = tags[predicted.item()]\n",
    "\n",
    "    probs = torch.softmax(output, dim=1)\n",
    "    prob = probs[0][predicted.item()]\n",
    "    if prob.item() > 0.75:\n",
    "        for intent in intents['intents']:\n",
    "            if tag == intent[\"tag\"]:\n",
    "                print(f\"{bot_name}: {random.choice(intent['responses'])}\")\n",
    "    else:\n",
    "        print(f\"{bot_name}: I do not understand you.\")"
   ]
  },
  {
   "cell_type": "markdown",
   "id": "8c57f51e-85a0-475b-bf3e-fc7ded49cde3",
   "metadata": {},
   "source": [
    "# -------------------------------END-------------------------------"
   ]
  },
  {
   "cell_type": "markdown",
   "id": "122f7ce1-4a7b-46ef-ad5c-857c49626ee7",
   "metadata": {},
   "source": [
    "## workspace"
   ]
  },
  {
   "cell_type": "code",
   "execution_count": 66,
   "id": "9950f01f-9f8b-4696-9a96-a23262315e5d",
   "metadata": {},
   "outputs": [
    {
     "data": {
      "text/plain": [
       "torch.Size([1, 11])"
      ]
     },
     "execution_count": 66,
     "metadata": {},
     "output_type": "execute_result"
    }
   ],
   "source": [
    "output.shape"
   ]
  },
  {
   "cell_type": "code",
   "execution_count": 67,
   "id": "75994e0b-7d68-46fc-9c02-9135e6e5ee27",
   "metadata": {},
   "outputs": [
    {
     "data": {
      "text/plain": [
       "tensor([[-4.1753,  1.6946, -9.4218, -7.6858, -4.4118, -5.9664, -7.6212, -6.4075,\n",
       "         -7.3662, -6.9610, -7.4906]], device='cuda:0',\n",
       "       grad_fn=<AddmmBackward0>)"
      ]
     },
     "execution_count": 67,
     "metadata": {},
     "output_type": "execute_result"
    }
   ],
   "source": [
    "output"
   ]
  },
  {
   "cell_type": "code",
   "execution_count": 68,
   "id": "ef144639-3ac7-4888-9b1b-8b6af9a626bc",
   "metadata": {},
   "outputs": [
    {
     "data": {
      "text/plain": [
       "tensor([1], device='cuda:0')"
      ]
     },
     "execution_count": 68,
     "metadata": {},
     "output_type": "execute_result"
    }
   ],
   "source": [
    "predicted"
   ]
  },
  {
   "cell_type": "code",
   "execution_count": 69,
   "id": "4e7ce312-597a-4c64-a70b-2724924d2b47",
   "metadata": {},
   "outputs": [
    {
     "data": {
      "text/plain": [
       "1"
      ]
     },
     "execution_count": 69,
     "metadata": {},
     "output_type": "execute_result"
    }
   ],
   "source": [
    "predicted.item()"
   ]
  },
  {
   "cell_type": "code",
   "execution_count": 73,
   "id": "6dfe1bbb-5d02-49c9-ad05-e2d63517533d",
   "metadata": {},
   "outputs": [
    {
     "data": {
      "text/plain": [
       "tensor([1.6946], device='cuda:0', grad_fn=<MaxBackward0>)"
      ]
     },
     "execution_count": 73,
     "metadata": {},
     "output_type": "execute_result"
    }
   ],
   "source": [
    "torch.max(output, dim=1)[0]"
   ]
  },
  {
   "cell_type": "code",
   "execution_count": 76,
   "id": "6d518643-3038-42fa-a6dc-99e2007f02d1",
   "metadata": {},
   "outputs": [
    {
     "data": {
      "text/plain": [
       "tensor([[2.8052e-03, 9.9363e-01, 1.4772e-05, 8.3823e-05, 2.2143e-03, 4.6784e-04,\n",
       "         8.9421e-05, 3.0098e-04, 1.1539e-04, 1.7304e-04, 1.0190e-04]],\n",
       "       device='cuda:0', grad_fn=<SoftmaxBackward0>)"
      ]
     },
     "execution_count": 76,
     "metadata": {},
     "output_type": "execute_result"
    }
   ],
   "source": [
    "torch.softmax(output, dim=1)"
   ]
  },
  {
   "cell_type": "code",
   "execution_count": 77,
   "id": "abfc6a7e-4add-442a-b9eb-5488649c5986",
   "metadata": {},
   "outputs": [
    {
     "data": {
      "text/plain": [
       "tensor([2.8052e-03, 9.9363e-01, 1.4772e-05, 8.3823e-05, 2.2143e-03, 4.6784e-04,\n",
       "        8.9421e-05, 3.0098e-04, 1.1539e-04, 1.7304e-04, 1.0190e-04],\n",
       "       device='cuda:0', grad_fn=<SelectBackward0>)"
      ]
     },
     "execution_count": 77,
     "metadata": {},
     "output_type": "execute_result"
    }
   ],
   "source": [
    "probs[0]"
   ]
  },
  {
   "cell_type": "code",
   "execution_count": 78,
   "id": "5e16a863-6ece-42b8-ba34-9cb710de40c8",
   "metadata": {},
   "outputs": [
    {
     "data": {
      "text/plain": [
       "tensor(0.9936, device='cuda:0', grad_fn=<SelectBackward0>)"
      ]
     },
     "execution_count": 78,
     "metadata": {},
     "output_type": "execute_result"
    }
   ],
   "source": [
    "probs[0][predicted.item()]"
   ]
  },
  {
   "cell_type": "code",
   "execution_count": 79,
   "id": "c3b48818-3ba0-49f0-9b86-912b71b7af8a",
   "metadata": {},
   "outputs": [
    {
     "data": {
      "text/plain": [
       "tensor([[0., 0., 0., 0., 0., 0., 0., 0., 0., 0., 0., 0., 0., 0., 0., 0., 0., 0.,\n",
       "         0., 0., 0., 0., 0., 0., 0., 0., 0., 0., 0., 0., 0., 0., 0., 0., 0., 0.,\n",
       "         0., 0., 0., 0., 0., 0., 0., 0., 0., 0., 0., 0., 0., 0., 0., 0., 0., 0.,\n",
       "         0., 0., 0., 0., 0., 0., 0., 0., 0., 0., 0., 0., 0., 0., 0., 0., 0., 0.,\n",
       "         0., 0., 0., 0., 0., 0., 0., 0., 0., 0., 0., 0., 0., 0., 0., 0., 0., 0.,\n",
       "         0., 0., 0., 0., 0., 0., 0., 0., 0., 0., 0., 0., 0., 1., 0.]],\n",
       "       device='cuda:0')"
      ]
     },
     "execution_count": 79,
     "metadata": {},
     "output_type": "execute_result"
    }
   ],
   "source": [
    "X"
   ]
  },
  {
   "cell_type": "code",
   "execution_count": null,
   "id": "dcc44832-cd5f-45e0-b273-675cd18779ce",
   "metadata": {},
   "outputs": [],
   "source": []
  }
 ],
 "metadata": {
  "kernelspec": {
   "display_name": "llm",
   "language": "python",
   "name": "llm"
  },
  "language_info": {
   "codemirror_mode": {
    "name": "ipython",
    "version": 3
   },
   "file_extension": ".py",
   "mimetype": "text/x-python",
   "name": "python",
   "nbconvert_exporter": "python",
   "pygments_lexer": "ipython3",
   "version": "3.12.3"
  }
 },
 "nbformat": 4,
 "nbformat_minor": 5
}
